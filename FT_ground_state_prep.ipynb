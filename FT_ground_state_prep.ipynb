{
 "cells": [
  {
   "cell_type": "markdown",
   "metadata": {},
   "source": [
    "## Ground-state preparation for TF Ising Model using QETU\n",
    "\n",
    "Based on methodology from [arXiv:2204.05955](https://arxiv.org/abs/2204.05955)"
   ]
  },
  {
   "cell_type": "markdown",
   "metadata": {},
   "source": [
    "The Hamiltonian that will be implemented is given by the following equation:\n",
    "\n",
    "$$H_{\\mathrm{TFIM}}=\\underbrace{-\\sum_{j=1}^{n-1}Z_{j}Z_{j+1}}_{H_{\\mathrm{TFIM}}^{(1)}}\\underbrace{-g\\sum_{j=1}^{n}X_{j}}_{H_{\\mathrm{TFIM}}^{(2)}}.$$\n",
    "The Trotterized implementation of the Hamiltonian typically includes controlled operations for Hamiltonian components. In this case, the implementation is modified in such a way as to avoid this by implementing Pauli strings $K$. The strings are selected to anticommute with each grouped Hamiltonian term. In the TFIM case we can identify one String to commute with all terms:\n",
    "$$K:=Y_1\\otimes Z_2\\otimes Y_3\\otimes Z_4\\otimes\\cdots . $$\n",
    "This can be implemented on cirq using the following function:"
   ]
  },
  {
   "cell_type": "code",
   "execution_count": 136,
   "metadata": {},
   "outputs": [],
   "source": [
    "import cirq as cirq\n",
    "import numpy as np\n",
    "import cvxpy as cp"
   ]
  },
  {
   "cell_type": "code",
   "execution_count": 137,
   "metadata": {},
   "outputs": [],
   "source": [
    "def K(n_qubits):\n",
    "    if n_qubits % 2:\n",
    "          raise Exception(\"Sorry, numbers of qubits must be even\") \n",
    "\n",
    "    q = cirq.LineQubit.range(n_qubits)\n",
    "    seq = []\n",
    "    for i in range(int(n_qubits/2)):\n",
    "        seq.append([cirq.Y(q[i]),cirq.Z(q[i+1])])\n",
    "    return cirq.PauliString(seq)\n"
   ]
  },
  {
   "cell_type": "markdown",
   "metadata": {},
   "source": [
    "Alongside our only Pauli string we must define out evolution operator $W$."
   ]
  },
  {
   "cell_type": "code",
   "execution_count": 138,
   "metadata": {},
   "outputs": [
    {
     "data": {
      "text/html": [
       "<pre style=\"overflow: auto; white-space: pre;\">0: ───ZZ─────────Rx(0.159π)─────────────────────────────\n",
       "      │\n",
       "1: ───ZZ^0.318───ZZ───────────Rx(0.159π)────────────────\n",
       "                 │\n",
       "2: ──────────────ZZ^0.318─────ZZ───────────Rx(0.159π)───\n",
       "                              │\n",
       "3: ───────────────────────────ZZ^0.318─────Rx(0.159π)───</pre>"
      ],
      "text/plain": [
       "0: ───ZZ─────────Rx(0.159π)─────────────────────────────\n",
       "      │\n",
       "1: ───ZZ^0.318───ZZ───────────Rx(0.159π)────────────────\n",
       "                 │\n",
       "2: ──────────────ZZ^0.318─────ZZ───────────Rx(0.159π)───\n",
       "                              │\n",
       "3: ───────────────────────────ZZ^0.318─────Rx(0.159π)───"
      ]
     },
     "execution_count": 138,
     "metadata": {},
     "output_type": "execute_result"
    }
   ],
   "source": [
    "def rzz(rads,q,i):\n",
    "    \"\"\"Returns a gate with the matrix exp(-i Z⊗Z rads).\"\"\"\n",
    "    return cirq.ZZPowGate(exponent=2 * rads / np.pi, global_shift=-0.5,).on(q[i],q[i+1])\n",
    "\n",
    "g = 4\n",
    "def W(n_qubits,tau):\n",
    "    q = cirq.LineQubit.range(n_qubits)\n",
    "    W = cirq.Circuit()\n",
    "    # H_1:\n",
    "    for i in range(n_qubits-1):\n",
    "        W.append(rzz(tau,q,i))\n",
    "    # H_2:\n",
    "    for i in range(n_qubits):\n",
    "        W.append(cirq.rx(tau).on(q[i]))\n",
    "    \n",
    "    return W\n",
    "W(4,0.5)"
   ]
  },
  {
   "cell_type": "code",
   "execution_count": 139,
   "metadata": {},
   "outputs": [
    {
     "data": {
      "text/html": [
       "<pre style=\"overflow: auto; white-space: pre;\">0: ───PauliString(-iY)───ZZ─────────Rx(0.159π)─────────────────────────────PauliString(-iY)───\n",
       "      │                  │                                                 │\n",
       "1: ───X──────────────────ZZ^0.318───ZZ───────────Rx(0.159π)────────────────X──────────────────\n",
       "      │                             │                                      │\n",
       "2: ───Z─────────────────────────────ZZ^0.318─────ZZ───────────Rx(0.159π)───Z──────────────────\n",
       "      │                                          │                         │\n",
       "3: ───┼──────────────────────────────────────────ZZ^0.318─────Rx(0.159π)───┼──────────────────\n",
       "      │                                                                    │\n",
       "4: ───(0)──────────────────────────────────────────────────────────────────(0)────────────────</pre>"
      ],
      "text/plain": [
       "0: ───PauliString(-iY)───ZZ─────────Rx(0.159π)─────────────────────────────PauliString(-iY)───\n",
       "      │                  │                                                 │\n",
       "1: ───X──────────────────ZZ^0.318───ZZ───────────Rx(0.159π)────────────────X──────────────────\n",
       "      │                             │                                      │\n",
       "2: ───Z─────────────────────────────ZZ^0.318─────ZZ───────────Rx(0.159π)───Z──────────────────\n",
       "      │                                          │                         │\n",
       "3: ───┼──────────────────────────────────────────ZZ^0.318─────Rx(0.159π)───┼──────────────────\n",
       "      │                                                                    │\n",
       "4: ───(0)──────────────────────────────────────────────────────────────────(0)────────────────"
      ]
     },
     "execution_count": 139,
     "metadata": {},
     "output_type": "execute_result"
    }
   ],
   "source": [
    "def KWK_step(n_qubits,tau):\n",
    "    q = cirq.LineQubit.range(n_qubits+1) #last qubit selected as ancilla\n",
    "    KWK_step = cirq.Circuit()\n",
    "    KWK_step.append(K(n_qubits).controlled_by(q[-1],control_values=[0]))\n",
    "    KWK_step.append(W(n_qubits,tau))\n",
    "    KWK_step.append(K(n_qubits).controlled_by(q[-1],control_values=[0]))\n",
    "    return KWK_step\n",
    "\n",
    "KWK_step(4,0.5)"
   ]
  },
  {
   "cell_type": "markdown",
   "metadata": {},
   "source": [
    "The complete circuit intersperses KWK operations with $e^{i\\phi_i X}$ terms, where $\\phi_i$ refers to adjustable phase factor parameters from the polynomial approximation of the shifted sign function. Thus we need to construct the polynomials via optimization. In this case the method used is Convex Optimization. We start off by witing out our $d$ degree target polynomial as a LC of Chebyshev polynomials $T_{2k}$:\n",
    "$$F(x) = \\sum_{k=0}^{d/2} T_{2k}(x) c_k $$\n",
    "with unknown parameters $c_k$. Then we generate a matrix of coefficients $A_{jk}$ by discretizing the domain over Chevbyshev root values.\n",
    "\n"
   ]
  },
  {
   "cell_type": "code",
   "execution_count": null,
   "metadata": {},
   "outputs": [],
   "source": [
    "def shifted_sign_function(x,mu):\n",
    "    func = abs(np.heaviside(x-mu*np.ones(len(x)),0)-1)\n",
    "    return func\n",
    "\n",
    "def sigma(string,mu,delta,eta):\n",
    "    if string == '+':\n",
    "        return np.cos((mu-delta/2)/2)\n",
    "    if string == '-':\n",
    "        return np.cos((mu+delta/2)/2)\n",
    "    if string == 'min':\n",
    "        return np.cos((np.pi-eta)/2)\n",
    "    if string == 'max':\n",
    "        return np.cos(eta/2)\n",
    "    else: \n",
    "        raise 'Invalid string input'\n",
    "    \n",
    "\n",
    "def target(coefs,mu,delta,eta,M):\n",
    "    coefs_even = []\n",
    "    for item in coefs: #we only want even Chebyshev polynomials\n",
    "        coefs_even.append(item)\n",
    "        coefs_even.append(0)\n",
    "\n",
    "    #we want to discretize on the roots (M values)\n",
    "    j = np.linspace(0,M-1,M) \n",
    "    x_j = -np.cos(j*np.pi/(M-1))\n",
    "    F_xj = np.polynomial.chebyshev.chebval(x_j,coefs_even) #default domain is [-1,1] which is what we need\n",
    "\n",
    "    # F_xj_abs = []\n",
    "    # for F in F_xj:\n",
    "    #     F_xj_abs = cp.hstack(F_xj_abs,cp.abs(F))\n",
    "    norm_max = np.max(F_xj)\n",
    "\n",
    "    c = 0.999\n",
    "\n",
    "    T1 = []\n",
    "    T2 = []\n",
    "    sigma_plus = sigma('+', mu, delta, eta)\n",
    "    sigma_max = sigma('max', mu, delta, eta)\n",
    "    sigma_minus = sigma('-', mu, delta, eta)\n",
    "    sigma_min = sigma('min', mu, delta, eta)\n",
    "\n",
    "    for i in range(len(x_j)):\n",
    "        x = x_j[i]\n",
    "        if x <= sigma_plus and x >= sigma_max:\n",
    "            T1.append(np.abs(F_xj[i]-c))\n",
    "        if x_j[i] <= sigma_minus and x_j[i] >= sigma_min:\n",
    "            T2.append(np.abs(F_xj[i]))\n",
    "\n",
    "    max_T1 = np.max(T1)\n",
    "    max_T2 = np.max(T2)\n",
    "    target = np.max([max_T1,max_T2])\n",
    "    return target, norm_max\n"
   ]
  },
  {
   "cell_type": "code",
   "execution_count": null,
   "metadata": {},
   "outputs": [],
   "source": [
    "d = 20\n",
    "mu = 1.0\n",
    "eta = 0.1\n",
    "delta = 0.4\n",
    "M = 400\n",
    "c = 0.999\n",
    "# coefs = [0,0.1,0.2,-0.3,0.4,-0.5]\n",
    "# print(target(coefs, mu, delta, eta, M)[0])\n",
    "coefs = cp.Variable(d)\n",
    "objective = cp.Minimize(target(coefs, mu, delta, eta, M)[0])\n",
    "constraint = [target(coefs, mu, delta, eta, M)[1] <= c]\n",
    "prob = cp.Problem(objective, constraint)\n",
    "\n",
    "\n"
   ]
  },
  {
   "cell_type": "code",
   "execution_count": 179,
   "metadata": {},
   "outputs": [
    {
     "name": "stdout",
     "output_type": "stream",
     "text": [
      "None\n"
     ]
    }
   ],
   "source": [
    "result = prob.solve()\n",
    "print(coefs.value)"
   ]
  }
 ],
 "metadata": {
  "kernelspec": {
   "display_name": "Python 3",
   "language": "python",
   "name": "python3"
  },
  "language_info": {
   "codemirror_mode": {
    "name": "ipython",
    "version": 3
   },
   "file_extension": ".py",
   "mimetype": "text/x-python",
   "name": "python",
   "nbconvert_exporter": "python",
   "pygments_lexer": "ipython3",
   "version": "3.12.1"
  }
 },
 "nbformat": 4,
 "nbformat_minor": 2
}
