{
 "cells": [
  {
   "cell_type": "markdown",
   "metadata": {},
   "source": [
    "## Ground-state preparation for TF Ising Model using QETU\n",
    "\n",
    "Based on methodology from [arXiv:2204.05955](https://arxiv.org/abs/2204.05955)"
   ]
  },
  {
   "cell_type": "markdown",
   "metadata": {},
   "source": [
    "The Hamiltonian that will be implemented is given by the following equation:\n",
    "\n",
    "$$H_{\\mathrm{TFIM}}=\\underbrace{-\\sum_{j=1}^{n-1}Z_{j}Z_{j+1}}_{H_{\\mathrm{TFIM}}^{(1)}}\\underbrace{-g\\sum_{j=1}^{n}X_{j}}_{H_{\\mathrm{TFIM}}^{(2)}}.$$\n",
    "The Trotterized implementation of the Hamiltonian typically includes controlled operations for Hamiltonian components. In this case, the implementation is modified in such a way as to avoid this by implementing Pauli strings $K$. The strings are selected to anticommute with each grouped Hamiltonian term. In the TFIM case we can identify one String to commute with all terms:\n",
    "$$K:=Y_1\\otimes Z_2\\otimes Y_3\\otimes Z_4\\otimes\\cdots . $$\n",
    "This can be implemented on cirq using the following function:"
   ]
  },
  {
   "cell_type": "code",
   "execution_count": 2,
   "metadata": {},
   "outputs": [],
   "source": [
    "import cirq as cirq\n",
    "import numpy as np\n",
    "import cvxpy as cp\n",
    "import matplotlib.pyplot as plt\n",
    "import scipy.optimize as opt"
   ]
  },
  {
   "cell_type": "code",
   "execution_count": 3,
   "metadata": {},
   "outputs": [],
   "source": [
    "def K(q,n_qubits):\n",
    "    if n_qubits % 2:\n",
    "          raise Exception(\"Sorry, numbers of qubits must be even\") \n",
    "\n",
    "    # q = cirq.LineQubit.range(n_qubits)\n",
    "    seq = []\n",
    "    for i in range(int(n_qubits/2)):\n",
    "        seq.append([cirq.Y(q[i]),cirq.Z(q[i+1])])\n",
    "    return cirq.PauliString(seq)\n"
   ]
  },
  {
   "cell_type": "markdown",
   "metadata": {},
   "source": [
    "Alongside our only Pauli string we must define out evolution operator $W$."
   ]
  },
  {
   "cell_type": "code",
   "execution_count": 4,
   "metadata": {},
   "outputs": [],
   "source": [
    "def rzz(rads,q,i):\n",
    "    \"\"\"Returns a gate with the matrix exp(-i Z⊗Z rads).\"\"\"\n",
    "    return cirq.ZZPowGate(exponent=2 * rads / np.pi, global_shift=-0.5,).on(q[i],q[i+1])\n",
    "\n",
    "\n",
    "def W(q,n_qubits,tau,steps):\n",
    "    g = 4\n",
    "    # q = cirq.LineQubit.range(n_qubits)\n",
    "    W = cirq.Circuit()\n",
    "    t = tau/steps\n",
    "    for j in range(steps):\n",
    "        # H_1:\n",
    "        for i in range(n_qubits-1):\n",
    "            W.append(rzz(-t,q,i))\n",
    "        # H_2:\n",
    "        for i in range(n_qubits):\n",
    "            W.append(cirq.rx(-2*g*t).on(q[i]))\n",
    "        \n",
    "    return W\n"
   ]
  },
  {
   "cell_type": "code",
   "execution_count": 5,
   "metadata": {},
   "outputs": [],
   "source": [
    "def KWK_step(q,n_qubits,tau,steps):\n",
    "    # q = cirq.LineQubit.range(n_qubits+1) #last qubit selected as ancilla\n",
    "    KWK_step = cirq.Circuit()\n",
    "    KWK_step.append(cirq.X(q[-1]))\n",
    "    KWK_step.append(K(q,n_qubits).controlled_by(q[-1],control_values=[1]))\n",
    "    KWK_step.append(cirq.X(q[-1]))\n",
    "    KWK_step.append(W(q,n_qubits,tau,steps))\n",
    "    KWK_step.append(cirq.X(q[-1]))\n",
    "    KWK_step.append(K(q,n_qubits).controlled_by(q[-1],control_values=[1]))\n",
    "    KWK_step.append(cirq.X(q[-1]))\n",
    "    return KWK_step\n"
   ]
  },
  {
   "cell_type": "markdown",
   "metadata": {},
   "source": [
    "The complete circuit intersperses KWK operations with $e^{i\\phi_i X}$ terms, where $\\phi_i$ refers to adjustable phase factor parameters from the polynomial approximation of the shifted sign function. Thus we need to construct the polynomials via optimization. In this case the method used is Convex Optimization. We start off by witing out our $d$ degree target polynomial as a LC of Chebyshev polynomials $T_{2k}$:\n",
    "$$F(x) = \\sum_{k=0}^{d/2} T_{2k}(x) c_k $$\n",
    "with unknown parameters $c_k$. Then we generate a matrix of coefficients $A_{jk}$ by discretizing the domain over Chevbyshev root values.\n",
    "\n"
   ]
  },
  {
   "cell_type": "code",
   "execution_count": 6,
   "metadata": {},
   "outputs": [],
   "source": [
    "def shifted_sign_function(x,mu):\n",
    "    func = abs(np.heaviside(x-mu*np.ones(len(x)),0))\n",
    "    return func\n",
    "\n",
    "def sigma(string,mu,delta,eta):\n",
    "    if string == '+':\n",
    "        return np.cos((mu-delta/2)/2)\n",
    "    if string == '-':\n",
    "        return np.cos((mu+delta/2)/2)\n",
    "    if string == 'min':\n",
    "        return np.cos((np.pi-eta)/2)\n",
    "    if string == 'max':\n",
    "        return np.cos(eta/2)\n",
    "    else: \n",
    "        raise 'Invalid string input'"
   ]
  },
  {
   "cell_type": "markdown",
   "metadata": {},
   "source": [
    "Once we have the values for the phases that will be applied to the ancilla we can implement the QETU circuit."
   ]
  },
  {
   "cell_type": "code",
   "execution_count": 7,
   "metadata": {},
   "outputs": [],
   "source": [
    "def QETU_circuit(q,n_qubits,phases,steps):\n",
    "    QETU_circuit = cirq.Circuit()\n",
    "    tau = 0.5\n",
    "    for i in range(int(len(phases)/2)):\n",
    "        QETU_circuit.append(np.exp(1j*phases[2*i]*cirq.X(q[-1])))\n",
    "        QETU_circuit.append(KWK_step(q,n_qubits,tau,steps))\n",
    "        QETU_circuit.append(np.exp(1j*phases[2*i+1]*cirq.X(q[-1])))\n",
    "        QETU_circuit.append(cirq.X(q[-1]))\n",
    "        QETU_circuit.append(KWK_step(q,n_qubits,tau,steps))\n",
    "        QETU_circuit.append(cirq.X(q[-1]))\n",
    "    if int(len(phases)/2)== 0:\n",
    "        QETU_circuit.append(np.exp(1j*phases[0]*cirq.X(q[-1])))\n",
    "        QETU_circuit.append(KWK_step(q,n_qubits,tau,steps))\n",
    "\n",
    "    QETU_circuit.append(cirq.M(q[-1]))\n",
    "    return QETU_circuit\n"
   ]
  },
  {
   "cell_type": "code",
   "execution_count": 8,
   "metadata": {},
   "outputs": [],
   "source": [
    "def H_observable(q,n_qubits):\n",
    "    op = 0\n",
    "    g = 4\n",
    "\n",
    "    for i in range(n_qubits-1):\n",
    "        op += -1*cirq.Z(q[i])*cirq.Z(q[i+1])\n",
    "    for i in range(n_qubits):\n",
    "        op += -1*g*cirq.X(q[i])\n",
    "    # op += 0*cirq.I(q[-1])\n",
    "    return op"
   ]
  },
  {
   "cell_type": "code",
   "execution_count": 9,
   "metadata": {},
   "outputs": [],
   "source": [
    "X1 = np.array([[0,1],[1,0]])\n",
    "Z1 = np.array([[1,0],[0,-1]])\n",
    "\n",
    "def Z_q(qubit,n_qubits):\n",
    "    Z = 1\n",
    "    for i in range(0,n_qubits):\n",
    "        if i in qubit:\n",
    "            mat=Z1\n",
    "        else: \n",
    "            mat=np.identity(2)\n",
    "        Z = np.kron(Z,mat)\n",
    "    return Z\n",
    "\n",
    "\n",
    "\n",
    "def X_q(qubit,n_qubits):\n",
    "    X = 1\n",
    "    for i in range(0,n_qubits):\n",
    "        if i in qubit:\n",
    "            mat=X1\n",
    "        else: \n",
    "            mat=np.identity(2)\n",
    "        X = np.kron(X,mat)\n",
    "    return X\n",
    "\n",
    "def H_operator(n_qubits):\n",
    "    op = np.zeros([2**n_qubits,2**n_qubits])\n",
    "    g = 4\n",
    "\n",
    "    for i in range(n_qubits-1):\n",
    "        op += -1*Z_q([i,i+1],n_qubits)\n",
    "    for i in range(n_qubits):\n",
    "        op += -1*g*X_q([i],n_qubits)\n",
    "    return op\n",
    "\n",
    "def H_sh_operator(n_qubits):\n",
    "    op = np.zeros([2**n_qubits,2**n_qubits])\n",
    "    g = 4\n",
    "    eta = 0.1\n",
    "\n",
    "    ordered_eigenvals  = np.sort(np.linalg.eigvals(H_operator(n_qubits)))\n",
    "    E_0 = ordered_eigenvals[0]\n",
    "    c1 = (np.pi - 2*eta)/(ordered_eigenvals[-1]-ordered_eigenvals[0])\n",
    "    c2 = eta - c1*ordered_eigenvals[0]\n",
    "\n",
    "    for i in range(n_qubits-1):\n",
    "        op += -1*Z_q([i,i+1],n_qubits)\n",
    "    for i in range(n_qubits):\n",
    "        op += -1*g*X_q([i],n_qubits)\n",
    "\n",
    "    op_sh = op*c1 + np.identity(2**n_qubits)*c2\n",
    "    return op_sh, c1, c2, E_0\n",
    "\n",
    "def produce_case_parameters(n_qubits):\n",
    "    ordered_eigenvals_sh  = np.sort(np.linalg.eigvals(H_sh_operator(n_qubits)[0]))\n",
    "    E_0 = H_sh_operator(n_qubits)[3]\n",
    "    c1 = H_sh_operator(n_qubits)[1]\n",
    "    c2 = H_sh_operator(n_qubits)[2]\n",
    "    mu = (ordered_eigenvals_sh[0] + ordered_eigenvals_sh[1])/2\n",
    "    delta = ordered_eigenvals_sh[1] - ordered_eigenvals_sh[0]\n",
    "    return mu, delta, c1 , c2, E_0\n"
   ]
  },
  {
   "cell_type": "code",
   "execution_count": 10,
   "metadata": {},
   "outputs": [],
   "source": [
    "M = 400\n",
    "c = 0.999\n",
    "eta = 0.1\n",
    "\n",
    "def get_coef_matrix(x_j,d):\n",
    "    #we want to discretize on the roots (M values)\n",
    "    A = np.polynomial.chebyshev.chebvander(x_j,d-1) #default domain is [-1,1] which is what we need\n",
    "    for i in range(int(d/2)):\n",
    "        A[:,2*i+1]=np.zeros(len(x_j))\n",
    "    return A\n",
    "\n",
    "def poly_coef(d, n_qubits):\n",
    "    coefs = cp.Variable(d)\n",
    "    j = np.linspace(0,M-1,M) \n",
    "    x_j = -np.cos(j*np.pi/(M-1))\n",
    "    A = get_coef_matrix(x_j,d)\n",
    "    F_xj = cp.matmul(A,coefs)\n",
    "\n",
    "    mu, delta, c1, c2, E0 = produce_case_parameters(n_qubits)\n",
    "\n",
    "    sigma_plus = sigma('+', mu, delta, eta)\n",
    "    sigma_max = sigma('max', mu, delta, eta)\n",
    "    sigma_minus = sigma('-', mu, delta, eta)\n",
    "    sigma_min = sigma('min', mu, delta, eta)\n",
    "\n",
    "    x_j1 = []\n",
    "    x_j2 = []\n",
    "\n",
    "    for x in x_j:\n",
    "        if x >= sigma_plus and x <= sigma_max:\n",
    "            x_j1.append(x)\n",
    "        if x <= sigma_minus and x >= sigma_min:\n",
    "            x_j2.append(x)\n",
    "    \n",
    "    if x_j1==[]:\n",
    "        x_j1 = [sigma_plus]\n",
    "   \n",
    "    A1 = get_coef_matrix(x_j1,d)\n",
    "    F_xj1 = cp.matmul(A1,coefs)\n",
    "    T1 = cp.abs(F_xj1-c)\n",
    "    max_1 = cp.max(T1)\n",
    "\n",
    "    if x_j2==[]:\n",
    "        x_j2 = [sigma_minus]\n",
    "    \n",
    "    A2 = get_coef_matrix(x_j2,d)\n",
    "    F_xj2 = cp.matmul(A2,coefs)\n",
    "    T2 = cp.abs(F_xj2)\n",
    "    max_2 = cp.max(T2)\n",
    "\n",
    "    targ = cp.maximum(max_1,max_2)\n",
    "\n",
    "    objective = cp.Minimize(targ)\n",
    "    constraint = [cp.abs(F_xj)<=c]\n",
    "    prob = cp.Problem(objective, constraint)\n",
    "\n",
    "    result = prob.solve()\n",
    "    # x = np.linspace(0,1,M)\n",
    "    # y = np.polynomial.chebyshev.chebval(x, coefs.value)\n",
    "    # plt.plot(x,y,'.')\n",
    "    return coefs.value\n",
    "   "
   ]
  },
  {
   "cell_type": "code",
   "execution_count": 11,
   "metadata": {},
   "outputs": [],
   "source": [
    "# #Example\n",
    "# d = 20\n",
    "# n_qubits = 4\n",
    "# mu = 1\n",
    "# delta = 0.4\n",
    "# coefs = cp.Variable(d+1)\n",
    "# j = np.linspace(0,M-1,M) \n",
    "# x_j = -np.cos(j*np.pi/(M-1))\n",
    "# A = get_coef_matrix(x_j,d)\n",
    "# F_xj = cp.matmul(A,coefs)\n",
    "\n",
    "# sigma_plus = sigma('+', mu, delta, eta)\n",
    "# sigma_max = sigma('max', mu, delta, eta)\n",
    "# sigma_minus = sigma('-', mu, delta, eta)\n",
    "# sigma_min = sigma('min', mu, delta, eta)\n",
    "\n",
    "# x_j1 = []\n",
    "# x_j2 = []\n",
    "\n",
    "# for x in x_j:\n",
    "#     if x >= sigma_plus and x <= sigma_max:\n",
    "#         x_j1.append(x)\n",
    "#     if x <= sigma_minus and x >= sigma_min:\n",
    "#         x_j2.append(x)\n",
    "\n",
    "# if x_j1==[]:\n",
    "#     x_j1 = [sigma_plus]\n",
    "\n",
    "# A1 = get_coef_matrix(x_j1,d)\n",
    "# F_xj1 = cp.matmul(A1,coefs)\n",
    "# T1=cp.abs(F_xj1-c)\n",
    "# max_1 = cp.max(T1)\n",
    "\n",
    "# if x_j2==[]:\n",
    "#     x_j2 = [sigma_minus]\n",
    "\n",
    "# A2 = get_coef_matrix(x_j2,d)\n",
    "# F_xj2 = cp.matmul(A2,coefs)\n",
    "# T2=cp.abs(F_xj2)\n",
    "# max_2 = cp.max(T2)\n",
    "\n",
    "# targ = cp.maximum(max_1,max_2)\n",
    "\n",
    "# objective = cp.Minimize(targ)\n",
    "# constraint = [cp.abs(F_xj)<=c]\n",
    "# prob = cp.Problem(objective, constraint)\n",
    "\n",
    "# result = prob.solve()\n",
    "\n",
    "\n",
    "# x = np.linspace(0,1,M)\n",
    "# y = np.polynomial.chebyshev.chebval(x, coefs.value)\n",
    "# plt.plot(x,y,'.')\n",
    "# sign = shifted_sign_function(x,mu-eta)\n",
    "# plt.plot(x,sign)\n"
   ]
  },
  {
   "cell_type": "markdown",
   "metadata": {},
   "source": [
    "To get the symmetric phase factors we use another optimization problem based on the values of the polynomial at certain values $x_k$.\n",
    "We also need to define function $g(x,\\Phi)$, involving the phase factors, that's given by an expectation value:\n",
    "$$g(x,\\Phi):=\\mathrm{Re}[\\langle0|e^{i\\phi_0Z}e^{i\\arccos(x)X}e^{i\\phi_1Z}e^{i\\arccos(x)X}\\cdots e^{i\\phi_{d-1}Z}e^{i\\arccos(x)X}e^{i\\phi_dZ}|0\\rangle]$$"
   ]
  },
  {
   "cell_type": "code",
   "execution_count": 12,
   "metadata": {},
   "outputs": [],
   "source": [
    "def g_func(x,angles):\n",
    "    g = np.identity(2)\n",
    "    acos = np.arccos(x)\n",
    "    for i in range(len(angles)-1):\n",
    "        g = g*np.exp(1j*angles[i]*Z1)*np.exp(1j*acos*X1)\n",
    "    g = g*np.exp(1j*angles[-1]*Z1)\n",
    "    ket_0 = [1,0]\n",
    "    g_00 = np.matmul(ket_0,np.matmul(g,ket_0))\n",
    "    return np.real(g_00)\n"
   ]
  },
  {
   "cell_type": "code",
   "execution_count": 13,
   "metadata": {},
   "outputs": [],
   "source": [
    "def phase_coefs(d,n_qubits):\n",
    "    d_tilde = (d+1)/2\n",
    "    coefs = poly_coef(d,n_qubits)\n",
    "    k = np.linspace(1,int(d_tilde),int(d_tilde))\n",
    "\n",
    "    x_k = np.cos((2*k-1)/(4*d_tilde*np.pi))\n",
    "\n",
    "    F_xk = np.polynomial.chebyshev.chebval(x_k, coefs)\n",
    "\n",
    "    def F_phi(angles):\n",
    "        sum = 0 \n",
    "        for i in range(1,int(d_tilde)):\n",
    "            sum += np.abs(g_func(x_k[i],angles) - F_xk[i])**2\n",
    "        F_phi = sum/d_tilde\n",
    "        return F_phi\n",
    "\n",
    "    init_guess = np.zeros(d)\n",
    "    init_guess[0] = np.pi/4\n",
    "    init_guess[-1] = np.pi/4\n",
    "\n",
    "    phases = opt.minimize(F_phi, init_guess,tol=1e-9).x\n",
    "    return phases\n"
   ]
  },
  {
   "cell_type": "code",
   "execution_count": 14,
   "metadata": {},
   "outputs": [],
   "source": [
    "trotter_steps = 3\n",
    "d = np.linspace(1,20,20)\n",
    "d = d.astype(int)\n",
    "simulator = cirq.Simulator()\n",
    "\n",
    "ev = []\n",
    "qubits = [2,4,6,8]\n",
    "for n_qubits in qubits:\n",
    "    q = cirq.LineQubit.range(n_qubits+1) \n",
    "    ev_fixed_nq = []\n",
    "    for i in d:\n",
    "        phases = phase_coefs(i,n_qubits)\n",
    "        # print(phases)\n",
    "        ev_d = simulator.simulate_expectation_values(QETU_circuit(q,n_qubits,phases,trotter_steps), \n",
    "                                                    H_observable(q,n_qubits),\n",
    "                                                    initial_state=0,permit_terminal_measurements=True)\n",
    "        ev_fixed_nq.append(np.real(ev_d[0]))\n",
    "    ev.append(ev_fixed_nq)"
   ]
  },
  {
   "cell_type": "code",
   "execution_count": 15,
   "metadata": {},
   "outputs": [
    {
     "data": {
      "text/plain": [
       "<matplotlib.collections.LineCollection at 0x7930db036240>"
      ]
     },
     "execution_count": 15,
     "metadata": {},
     "output_type": "execute_result"
    },
    {
     "data": {
      "image/png": "[encoded data removed]",
      "text/plain": [
       "<Figure size 640x480 with 1 Axes>"
      ]
     },
     "metadata": {},
     "output_type": "display_data"
    }
   ],
   "source": [
    "plt.plot(d,ev[0])\n",
    "E0 = produce_case_parameters(qubits[0])[4]\n",
    "plt.hlines(E0, 1, 20, 'tab:gray', 'dashed')"
   ]
  },
  {
   "cell_type": "code",
   "execution_count": 18,
   "metadata": {},
   "outputs": [
    {
     "data": {
      "text/plain": [
       "<matplotlib.collections.LineCollection at 0x7930dadf16d0>"
      ]
     },
     "execution_count": 18,
     "metadata": {},
     "output_type": "execute_result"
    },
    {
     "data": {
      "image/png": "[encoded data removed]",
      "text/plain": [
       "<Figure size 640x480 with 1 Axes>"
      ]
     },
     "metadata": {},
     "output_type": "display_data"
    }
   ],
   "source": [
    "plt.plot(d,ev[1])\n",
    "E0 = produce_case_parameters(qubits[1])[4]\n",
    "plt.hlines(E0, 1, 20, 'tab:gray', 'dashed')"
   ]
  },
  {
   "cell_type": "code",
   "execution_count": 17,
   "metadata": {},
   "outputs": [
    {
     "data": {
      "text/plain": [
       "array([ 1,  2,  3,  4,  5,  6,  7,  8,  9, 10, 11, 12, 13, 14, 15, 16, 17,\n",
       "       18, 19, 20])"
      ]
     },
     "execution_count": 17,
     "metadata": {},
     "output_type": "execute_result"
    }
   ],
   "source": [
    "d"
   ]
  }
 ],
 "metadata": {
  "kernelspec": {
   "display_name": "Python 3",
   "language": "python",
   "name": "python3"
  },
  "language_info": {
   "codemirror_mode": {
    "name": "ipython",
    "version": 3
   },
   "file_extension": ".py",
   "mimetype": "text/x-python",
   "name": "python",
   "nbconvert_exporter": "python",
   "pygments_lexer": "ipython3",
   "version": "3.12.1"
  }
 },
 "nbformat": 4,
 "nbformat_minor": 2
}
