{
 "cells": [
  {
   "cell_type": "code",
   "execution_count": null,
   "metadata": {
    "vscode": {
     "languageId": "plaintext"
    }
   },
   "outputs": [],
   "source": [
    "import cirq\n",
    "import numpy as np\n",
    "from qualtran import Bloq, CompositeBloq, BloqBuilder, Signature, Register\n",
    "from qualtran import QBit, QInt, QUInt, QAny\n",
    "from qualtran.drawing import show_bloq, show_call_graph, show_counts_sigma, show_bloqs\n",
    "from typing import *\n",
    "import sympy\n",
    "from qualtran import SoquetT\n",
    "from qualtran.symbolics import SymbolicFloat, SymbolicInt\n",
    "from qualtran.bloqs.basic_gates import CNOT, Hadamard, Rz, SGate\n",
    "from qualtran.bloqs.rotations.phase_gradient import PhaseGradientUnitary\n",
    "from qualtran.bloqs.qft import QFTTextBook\n",
    "from qualtran.cirq_interop.t_complexity_protocol import t_complexity\n",
    "from qualtran.resource_counting import BloqCount\n",
    "import attrs"
   ]
  }
 ],
 "metadata": {
  "language_info": {
   "name": "python"
  }
 },
 "nbformat": 4,
 "nbformat_minor": 2
}
